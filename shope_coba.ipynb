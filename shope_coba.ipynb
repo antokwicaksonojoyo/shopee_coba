{
 "cells": [
  {
   "cell_type": "code",
   "execution_count": 5,
   "id": "a24228e7",
   "metadata": {},
   "outputs": [],
   "source": [
    "import numpy as np\n",
    "import pandas as pd\n",
    "from apyori import apriori"
   ]
  },
  {
   "cell_type": "code",
   "execution_count": 6,
   "id": "503871d5",
   "metadata": {},
   "outputs": [],
   "source": [
    "store_data = pd.read_excel('D:skripsi/dataset.xlsx') "
   ]
  },
  {
   "cell_type": "code",
   "execution_count": 7,
   "id": "e0c1ecc8",
   "metadata": {},
   "outputs": [
    {
     "data": {
      "text/html": [
       "<div>\n",
       "<style scoped>\n",
       "    .dataframe tbody tr th:only-of-type {\n",
       "        vertical-align: middle;\n",
       "    }\n",
       "\n",
       "    .dataframe tbody tr th {\n",
       "        vertical-align: top;\n",
       "    }\n",
       "\n",
       "    .dataframe thead th {\n",
       "        text-align: right;\n",
       "    }\n",
       "</style>\n",
       "<table border=\"1\" class=\"dataframe\">\n",
       "  <thead>\n",
       "    <tr style=\"text-align: right;\">\n",
       "      <th></th>\n",
       "      <th>id_toko</th>\n",
       "      <th>kategori_1</th>\n",
       "      <th>kategori_2</th>\n",
       "      <th>kategori_3</th>\n",
       "      <th>kategori_4</th>\n",
       "      <th>kategori_5</th>\n",
       "      <th>kategori_6</th>\n",
       "      <th>kategori_7</th>\n",
       "      <th>kategori_8</th>\n",
       "    </tr>\n",
       "  </thead>\n",
       "  <tbody>\n",
       "    <tr>\n",
       "      <th>0</th>\n",
       "      <td>Blankwear Official Shop</td>\n",
       "      <td>5</td>\n",
       "      <td>3</td>\n",
       "      <td>5</td>\n",
       "      <td>5</td>\n",
       "      <td>4</td>\n",
       "      <td>0</td>\n",
       "      <td>3.0</td>\n",
       "      <td>1</td>\n",
       "    </tr>\n",
       "    <tr>\n",
       "      <th>1</th>\n",
       "      <td>Oldblue Co. Official Shop</td>\n",
       "      <td>5</td>\n",
       "      <td>5</td>\n",
       "      <td>4</td>\n",
       "      <td>5</td>\n",
       "      <td>3</td>\n",
       "      <td>1</td>\n",
       "      <td>2.0</td>\n",
       "      <td>1</td>\n",
       "    </tr>\n",
       "    <tr>\n",
       "      <th>2</th>\n",
       "      <td>ONIC Esports Official Shop</td>\n",
       "      <td>5</td>\n",
       "      <td>5</td>\n",
       "      <td>5</td>\n",
       "      <td>5</td>\n",
       "      <td>3</td>\n",
       "      <td>0</td>\n",
       "      <td>2.0</td>\n",
       "      <td>1</td>\n",
       "    </tr>\n",
       "    <tr>\n",
       "      <th>3</th>\n",
       "      <td>iNeat Official Shop</td>\n",
       "      <td>4</td>\n",
       "      <td>3</td>\n",
       "      <td>3</td>\n",
       "      <td>5</td>\n",
       "      <td>2</td>\n",
       "      <td>2</td>\n",
       "      <td>2.0</td>\n",
       "      <td>1</td>\n",
       "    </tr>\n",
       "    <tr>\n",
       "      <th>4</th>\n",
       "      <td>Mailmo Official Shop</td>\n",
       "      <td>4</td>\n",
       "      <td>4</td>\n",
       "      <td>3</td>\n",
       "      <td>5</td>\n",
       "      <td>2</td>\n",
       "      <td>2</td>\n",
       "      <td>2.0</td>\n",
       "      <td>1</td>\n",
       "    </tr>\n",
       "  </tbody>\n",
       "</table>\n",
       "</div>"
      ],
      "text/plain": [
       "                      id_toko  kategori_1  kategori_2  kategori_3  kategori_4  \\\n",
       "0     Blankwear Official Shop           5           3           5           5   \n",
       "1   Oldblue Co. Official Shop           5           5           4           5   \n",
       "2  ONIC Esports Official Shop           5           5           5           5   \n",
       "3         iNeat Official Shop           4           3           3           5   \n",
       "4        Mailmo Official Shop           4           4           3           5   \n",
       "\n",
       "   kategori_5  kategori_6  kategori_7  kategori_8  \n",
       "0           4           0         3.0           1  \n",
       "1           3           1         2.0           1  \n",
       "2           3           0         2.0           1  \n",
       "3           2           2         2.0           1  \n",
       "4           2           2         2.0           1  "
      ]
     },
     "execution_count": 7,
     "metadata": {},
     "output_type": "execute_result"
    }
   ],
   "source": [
    "store_data.head()"
   ]
  },
  {
   "cell_type": "code",
   "execution_count": 8,
   "id": "19701d40",
   "metadata": {},
   "outputs": [
    {
     "data": {
      "text/html": [
       "<div>\n",
       "<style scoped>\n",
       "    .dataframe tbody tr th:only-of-type {\n",
       "        vertical-align: middle;\n",
       "    }\n",
       "\n",
       "    .dataframe tbody tr th {\n",
       "        vertical-align: top;\n",
       "    }\n",
       "\n",
       "    .dataframe thead th {\n",
       "        text-align: right;\n",
       "    }\n",
       "</style>\n",
       "<table border=\"1\" class=\"dataframe\">\n",
       "  <thead>\n",
       "    <tr style=\"text-align: right;\">\n",
       "      <th></th>\n",
       "      <th>id_toko</th>\n",
       "      <th>kategori_1</th>\n",
       "      <th>kategori_2</th>\n",
       "      <th>kategori_3</th>\n",
       "      <th>kategori_4</th>\n",
       "      <th>kategori_5</th>\n",
       "      <th>kategori_6</th>\n",
       "      <th>kategori_7</th>\n",
       "      <th>kategori_8</th>\n",
       "    </tr>\n",
       "  </thead>\n",
       "  <tbody>\n",
       "    <tr>\n",
       "      <th>650</th>\n",
       "      <td>CORNER.ID Official Shop</td>\n",
       "      <td>1</td>\n",
       "      <td>5</td>\n",
       "      <td>3</td>\n",
       "      <td>5</td>\n",
       "      <td>3</td>\n",
       "      <td>2</td>\n",
       "      <td>5.0</td>\n",
       "      <td>1</td>\n",
       "    </tr>\n",
       "    <tr>\n",
       "      <th>651</th>\n",
       "      <td>Vearst Official Shop</td>\n",
       "      <td>1</td>\n",
       "      <td>3</td>\n",
       "      <td>1</td>\n",
       "      <td>5</td>\n",
       "      <td>1</td>\n",
       "      <td>1</td>\n",
       "      <td>1.0</td>\n",
       "      <td>1</td>\n",
       "    </tr>\n",
       "    <tr>\n",
       "      <th>652</th>\n",
       "      <td>House of Smith Authorized Store Banjarmasin</td>\n",
       "      <td>1</td>\n",
       "      <td>5</td>\n",
       "      <td>1</td>\n",
       "      <td>5</td>\n",
       "      <td>2</td>\n",
       "      <td>2</td>\n",
       "      <td>1.0</td>\n",
       "      <td>1</td>\n",
       "    </tr>\n",
       "    <tr>\n",
       "      <th>653</th>\n",
       "      <td>Morwick Official Shop</td>\n",
       "      <td>1</td>\n",
       "      <td>3</td>\n",
       "      <td>1</td>\n",
       "      <td>5</td>\n",
       "      <td>1</td>\n",
       "      <td>4</td>\n",
       "      <td>0.0</td>\n",
       "      <td>1</td>\n",
       "    </tr>\n",
       "    <tr>\n",
       "      <th>654</th>\n",
       "      <td>Giordano Official Shop</td>\n",
       "      <td>1</td>\n",
       "      <td>5</td>\n",
       "      <td>1</td>\n",
       "      <td>5</td>\n",
       "      <td>1</td>\n",
       "      <td>2</td>\n",
       "      <td>2.0</td>\n",
       "      <td>1</td>\n",
       "    </tr>\n",
       "  </tbody>\n",
       "</table>\n",
       "</div>"
      ],
      "text/plain": [
       "                                         id_toko  kategori_1  kategori_2  \\\n",
       "650                      CORNER.ID Official Shop           1           5   \n",
       "651                         Vearst Official Shop           1           3   \n",
       "652  House of Smith Authorized Store Banjarmasin           1           5   \n",
       "653                        Morwick Official Shop           1           3   \n",
       "654                       Giordano Official Shop           1           5   \n",
       "\n",
       "     kategori_3  kategori_4  kategori_5  kategori_6  kategori_7  kategori_8  \n",
       "650           3           5           3           2         5.0           1  \n",
       "651           1           5           1           1         1.0           1  \n",
       "652           1           5           2           2         1.0           1  \n",
       "653           1           5           1           4         0.0           1  \n",
       "654           1           5           1           2         2.0           1  "
      ]
     },
     "execution_count": 8,
     "metadata": {},
     "output_type": "execute_result"
    }
   ],
   "source": [
    "store_data.tail()"
   ]
  },
  {
   "cell_type": "code",
   "execution_count": 9,
   "id": "2add4fc2",
   "metadata": {},
   "outputs": [
    {
     "data": {
      "text/plain": [
       "(655, 9)"
      ]
     },
     "execution_count": 9,
     "metadata": {},
     "output_type": "execute_result"
    }
   ],
   "source": [
    "store_data.shape"
   ]
  },
  {
   "cell_type": "code",
   "execution_count": 10,
   "id": "090b4cc2",
   "metadata": {},
   "outputs": [],
   "source": [
    "records = []\n",
    "for i in range(0, 655) :\n",
    " records.append([str(store_data.values[i,j]) for j in range(0,9)])"
   ]
  },
  {
   "cell_type": "code",
   "execution_count": 11,
   "id": "47e4b3d2",
   "metadata": {},
   "outputs": [],
   "source": [
    "association_rules = apriori(records, min_support=0.5, min_confidence=0.7, min_left=1.5, min_lenght=4)\n",
    "association_results = list(association_rules)"
   ]
  },
  {
   "cell_type": "code",
   "execution_count": 12,
   "id": "84c83847",
   "metadata": {},
   "outputs": [
    {
     "name": "stdout",
     "output_type": "stream",
     "text": [
      "7\n"
     ]
    }
   ],
   "source": [
    "print(len(association_results))"
   ]
  },
  {
   "cell_type": "code",
   "execution_count": 13,
   "id": "cea9f54a",
   "metadata": {},
   "outputs": [
    {
     "name": "stdout",
     "output_type": "stream",
     "text": [
      "[RelationRecord(items=frozenset({'1'}), support=0.9954198473282443, ordered_statistics=[OrderedStatistic(items_base=frozenset(), items_add=frozenset({'1'}), confidence=0.9954198473282443, lift=1.0)]), RelationRecord(items=frozenset({'2'}), support=0.749618320610687, ordered_statistics=[OrderedStatistic(items_base=frozenset(), items_add=frozenset({'2'}), confidence=0.749618320610687, lift=1.0)]), RelationRecord(items=frozenset({'5'}), support=1.0, ordered_statistics=[OrderedStatistic(items_base=frozenset(), items_add=frozenset({'5'}), confidence=1.0, lift=1.0)]), RelationRecord(items=frozenset({'1', '2'}), support=0.7450381679389313, ordered_statistics=[OrderedStatistic(items_base=frozenset(), items_add=frozenset({'1', '2'}), confidence=0.7450381679389313, lift=1.0), OrderedStatistic(items_base=frozenset({'1'}), items_add=frozenset({'2'}), confidence=0.7484662576687117, lift=0.9984631339572426), OrderedStatistic(items_base=frozenset({'2'}), items_add=frozenset({'1'}), confidence=0.9938900203665988, lift=0.9984631339572426)]), RelationRecord(items=frozenset({'5', '1'}), support=0.9954198473282443, ordered_statistics=[OrderedStatistic(items_base=frozenset(), items_add=frozenset({'5', '1'}), confidence=0.9954198473282443, lift=1.0), OrderedStatistic(items_base=frozenset({'1'}), items_add=frozenset({'5'}), confidence=1.0, lift=1.0), OrderedStatistic(items_base=frozenset({'5'}), items_add=frozenset({'1'}), confidence=0.9954198473282443, lift=1.0)]), RelationRecord(items=frozenset({'5', '2'}), support=0.749618320610687, ordered_statistics=[OrderedStatistic(items_base=frozenset(), items_add=frozenset({'5', '2'}), confidence=0.749618320610687, lift=1.0), OrderedStatistic(items_base=frozenset({'2'}), items_add=frozenset({'5'}), confidence=1.0, lift=1.0), OrderedStatistic(items_base=frozenset({'5'}), items_add=frozenset({'2'}), confidence=0.749618320610687, lift=1.0)]), RelationRecord(items=frozenset({'5', '1', '2'}), support=0.7450381679389313, ordered_statistics=[OrderedStatistic(items_base=frozenset(), items_add=frozenset({'5', '1', '2'}), confidence=0.7450381679389313, lift=1.0), OrderedStatistic(items_base=frozenset({'1'}), items_add=frozenset({'5', '2'}), confidence=0.7484662576687117, lift=0.9984631339572426), OrderedStatistic(items_base=frozenset({'2'}), items_add=frozenset({'5', '1'}), confidence=0.9938900203665988, lift=0.9984631339572426), OrderedStatistic(items_base=frozenset({'5'}), items_add=frozenset({'1', '2'}), confidence=0.7450381679389313, lift=1.0), OrderedStatistic(items_base=frozenset({'1', '2'}), items_add=frozenset({'5'}), confidence=1.0, lift=1.0), OrderedStatistic(items_base=frozenset({'5', '1'}), items_add=frozenset({'2'}), confidence=0.7484662576687117, lift=0.9984631339572426), OrderedStatistic(items_base=frozenset({'5', '2'}), items_add=frozenset({'1'}), confidence=0.9938900203665988, lift=0.9984631339572426)])]\n"
     ]
    }
   ],
   "source": [
    "print((association_results))"
   ]
  },
  {
   "cell_type": "code",
   "execution_count": 14,
   "id": "51fe26ea",
   "metadata": {},
   "outputs": [
    {
     "name": "stdout",
     "output_type": "stream",
     "text": [
      "             title1              title2 Support confidence lift\n",
      "0  frozenset({'1'})  0.9954198473282443  0.9954     0.9954  1.0\n",
      "             title1              title2 Support confidence lift\n",
      "0  frozenset({'1'})  0.9954198473282443  0.9954     0.9954  1.0\n",
      "1  frozenset({'2'})   0.749618320610687  0.7496     0.7496  1.0\n",
      "             title1              title2 Support confidence lift\n",
      "0  frozenset({'1'})  0.9954198473282443  0.9954     0.9954  1.0\n",
      "1  frozenset({'2'})   0.749618320610687  0.7496     0.7496  1.0\n",
      "2  frozenset({'5'})                 1.0     1.0        1.0  1.0\n",
      "                  title1              title2 Support confidence lift\n",
      "0       frozenset({'1'})  0.9954198473282443  0.9954     0.9954  1.0\n",
      "1       frozenset({'2'})   0.749618320610687  0.7496     0.7496  1.0\n",
      "2       frozenset({'5'})                 1.0     1.0        1.0  1.0\n",
      "3  frozenset({'1', '2'})  0.7450381679389313  0.7450     0.7450  1.0\n",
      "                  title1              title2 Support confidence lift\n",
      "0       frozenset({'1'})  0.9954198473282443  0.9954     0.9954  1.0\n",
      "1       frozenset({'2'})   0.749618320610687  0.7496     0.7496  1.0\n",
      "2       frozenset({'5'})                 1.0     1.0        1.0  1.0\n",
      "3  frozenset({'1', '2'})  0.7450381679389313  0.7450     0.7450  1.0\n",
      "4  frozenset({'5', '1'})  0.9954198473282443  0.9954     0.9954  1.0\n",
      "                  title1              title2 Support confidence lift\n",
      "0       frozenset({'1'})  0.9954198473282443  0.9954     0.9954  1.0\n",
      "1       frozenset({'2'})   0.749618320610687  0.7496     0.7496  1.0\n",
      "2       frozenset({'5'})                 1.0     1.0        1.0  1.0\n",
      "3  frozenset({'1', '2'})  0.7450381679389313  0.7450     0.7450  1.0\n",
      "4  frozenset({'5', '1'})  0.9954198473282443  0.9954     0.9954  1.0\n",
      "5  frozenset({'5', '2'})   0.749618320610687  0.7496     0.7496  1.0\n",
      "                       title1              title2 Support confidence lift\n",
      "0            frozenset({'1'})  0.9954198473282443  0.9954     0.9954  1.0\n",
      "1            frozenset({'2'})   0.749618320610687  0.7496     0.7496  1.0\n",
      "2            frozenset({'5'})                 1.0     1.0        1.0  1.0\n",
      "3       frozenset({'1', '2'})  0.7450381679389313  0.7450     0.7450  1.0\n",
      "4       frozenset({'5', '1'})  0.9954198473282443  0.9954     0.9954  1.0\n",
      "5       frozenset({'5', '2'})   0.749618320610687  0.7496     0.7496  1.0\n",
      "6  frozenset({'5', '1', '2'})  0.7450381679389313  0.7450     0.7450  1.0\n"
     ]
    }
   ],
   "source": [
    "results =[]\n",
    "for item in association_results:\n",
    "    pair = item[0]\n",
    "    items = [x for x in pair]\n",
    "    \n",
    "    value0 = str(item[0])\n",
    "    value1 = str(item[1])\n",
    "    value2 = str(item[1])[:6]\n",
    "    value3 = str(item[2][0][2])[:6]\n",
    "    value4 = str(item[2][0][3])[:6]\n",
    "    \n",
    "    rows = (value0,value1,value2,value3,value4)\n",
    "    results.append(rows)\n",
    "    label = ['title1','title2','Support','confidence','lift',]\n",
    "    store_suggestion = pd.DataFrame.from_records(results,columns=label)\n",
    "    print(store_suggestion)"
   ]
  },
  {
   "cell_type": "code",
   "execution_count": 15,
   "id": "4156f9d0",
   "metadata": {},
   "outputs": [
    {
     "data": {
      "text/html": [
       "<div>\n",
       "<style scoped>\n",
       "    .dataframe tbody tr th:only-of-type {\n",
       "        vertical-align: middle;\n",
       "    }\n",
       "\n",
       "    .dataframe tbody tr th {\n",
       "        vertical-align: top;\n",
       "    }\n",
       "\n",
       "    .dataframe thead th {\n",
       "        text-align: right;\n",
       "    }\n",
       "</style>\n",
       "<table border=\"1\" class=\"dataframe\">\n",
       "  <thead>\n",
       "    <tr style=\"text-align: right;\">\n",
       "      <th></th>\n",
       "      <th>title1</th>\n",
       "      <th>title2</th>\n",
       "      <th>Support</th>\n",
       "      <th>confidence</th>\n",
       "      <th>lift</th>\n",
       "    </tr>\n",
       "  </thead>\n",
       "  <tbody>\n",
       "    <tr>\n",
       "      <th>count</th>\n",
       "      <td>7</td>\n",
       "      <td>7</td>\n",
       "      <td>7</td>\n",
       "      <td>7</td>\n",
       "      <td>7</td>\n",
       "    </tr>\n",
       "    <tr>\n",
       "      <th>unique</th>\n",
       "      <td>7</td>\n",
       "      <td>4</td>\n",
       "      <td>4</td>\n",
       "      <td>4</td>\n",
       "      <td>1</td>\n",
       "    </tr>\n",
       "    <tr>\n",
       "      <th>top</th>\n",
       "      <td>frozenset({'1', '2'})</td>\n",
       "      <td>0.9954198473282443</td>\n",
       "      <td>0.9954</td>\n",
       "      <td>0.9954</td>\n",
       "      <td>1.0</td>\n",
       "    </tr>\n",
       "    <tr>\n",
       "      <th>freq</th>\n",
       "      <td>1</td>\n",
       "      <td>2</td>\n",
       "      <td>2</td>\n",
       "      <td>2</td>\n",
       "      <td>7</td>\n",
       "    </tr>\n",
       "  </tbody>\n",
       "</table>\n",
       "</div>"
      ],
      "text/plain": [
       "                       title1              title2 Support confidence lift\n",
       "count                       7                   7       7          7    7\n",
       "unique                      7                   4       4          4    1\n",
       "top     frozenset({'1', '2'})  0.9954198473282443  0.9954     0.9954  1.0\n",
       "freq                        1                   2       2          2    7"
      ]
     },
     "execution_count": 15,
     "metadata": {},
     "output_type": "execute_result"
    }
   ],
   "source": [
    "store_suggestion.describe()"
   ]
  },
  {
   "cell_type": "code",
   "execution_count": 16,
   "id": "ea349e3d",
   "metadata": {},
   "outputs": [],
   "source": [
    "store_suggestion.to_excel('D:/skripsi/hasil.xlsx')"
   ]
  },
  {
   "cell_type": "code",
   "execution_count": null,
   "id": "436cb58d",
   "metadata": {},
   "outputs": [],
   "source": []
  }
 ],
 "metadata": {
  "kernelspec": {
   "display_name": "Python 3",
   "language": "python",
   "name": "python3"
  },
  "language_info": {
   "codemirror_mode": {
    "name": "ipython",
    "version": 3
   },
   "file_extension": ".py",
   "mimetype": "text/x-python",
   "name": "python",
   "nbconvert_exporter": "python",
   "pygments_lexer": "ipython3",
   "version": "3.8.8"
  }
 },
 "nbformat": 4,
 "nbformat_minor": 5
}
